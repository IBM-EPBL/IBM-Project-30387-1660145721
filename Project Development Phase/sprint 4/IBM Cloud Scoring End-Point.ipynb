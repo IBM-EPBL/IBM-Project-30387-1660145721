{
 "cells": [
  {
   "cell_type": "code",
   "execution_count": 4,
   "id": "521d5fc3",
   "metadata": {
    "scrolled": true
   },
   "outputs": [
    {
     "ename": "ModuleNotFoundError",
     "evalue": "No module named 'flask_cors'",
     "output_type": "error",
     "traceback": [
      "\u001b[1;31m---------------------------------------------------------------------------\u001b[0m",
      "\u001b[1;31mModuleNotFoundError\u001b[0m                       Traceback (most recent call last)",
      "Input \u001b[1;32mIn [4]\u001b[0m, in \u001b[0;36m<cell line: 6>\u001b[1;34m()\u001b[0m\n\u001b[0;32m      4\u001b[0m \u001b[38;5;28;01mimport\u001b[39;00m \u001b[38;5;21;01mflask\u001b[39;00m\n\u001b[0;32m      5\u001b[0m \u001b[38;5;28;01mfrom\u001b[39;00m \u001b[38;5;21;01mflask\u001b[39;00m \u001b[38;5;28;01mimport\u001b[39;00m request, render_template\n\u001b[1;32m----> 6\u001b[0m \u001b[38;5;28;01mfrom\u001b[39;00m \u001b[38;5;21;01mflask_cors\u001b[39;00m \u001b[38;5;28;01mimport\u001b[39;00m CORS\n\u001b[0;32m      7\u001b[0m \u001b[38;5;28;01mimport\u001b[39;00m \u001b[38;5;21;01mrequests\u001b[39;00m\n\u001b[0;32m      8\u001b[0m \u001b[38;5;28;01mimport\u001b[39;00m \u001b[38;5;21;01mParser\u001b[39;00m\n",
      "\u001b[1;31mModuleNotFoundError\u001b[0m: No module named 'flask_cors'"
     ]
    }
   ],
   "source": [
    "import requests\n",
    "from flask import Flask,render_template,request,jsonify\n",
    "import pickle\n",
    "import flask\n",
    "from flask import request, render_template\n",
    "from flask_cors import CORS\n",
    "import requests\n",
    "import Parser\n",
    "\n",
    "\n",
    "# NOTE: you must manually set API_KEY below using information retrieved from your IBM Cloud account.\n",
    "API_KEY = \"jkAhUKPLY7AtlKYFkyOhX0MAD3gBP5NPuWH1c5lsCASQ\"\n",
    "token_response = requests.post('https://iam.cloud.ibm.com/identity/token', data={\"apikey\": 'jkAhUKPLY7AtlKYFkyOhX0MAD3gBP5NPuWH1c5lsCASQ', \"grant_type\": 'urn:ibm:params:oauth:grant-type:apikey'})\n",
    "mltoken = token_response.json()[\"access_token\"]\n",
    "\n",
    "header = {'Content-Type': 'application/json', 'Authorization': 'Bearer ' + mltoken}\n",
    "\n",
    "# NOTEd: manually define and pass the array(s) of values to be scored in the next line\n",
    "X = [[-1,-1,-1,1,-1,1,1,1,1,1,1,-1,-1,1,0,-1,-1,-1,0,1,1,1,1,1,1,1,1,1,1,-1]]\n",
    "payload_scoring = {\"input_data\": [{\"fields\": [['having_IPhaving_IP_Address','URLURL_Length','Shortining_Service','having_At_Symbol','double_slash_redirecting','Prefix_Suffix','having_Sub_Domain','SSLfinal_State','Domain_registeration_length','Favicon','port','HTTPS_token','Request_URL','URL_of_Anchor','Links_in_tags','SFH','Submitting_to_email','Abnormal_URL','Redirect','on_mouseover','RightClick','popUpWidnow','Iframe','age_of_domain','DNSRecord','web_traffic','Page_Rank','Google_Index','Links_pointing_to_page','Statistical_report']], \"values\": X }]}\n",
    "response_scoring = requests.post('https://us-south.ml.cloud.ibm.com/ml/v4/deployments/416e4500-9b96-4a40-bb86-894472582f4c/predictions?version=2022-11-16', json=payload_scoring, headers={'Authorization': 'Bearer ' + mltoken})\n",
    "print(\"Scoring response\")\n",
    "print(response_scoring.json())\n",
    "predictions = response_scoring.json()\n",
    "predict = predictions['predictions'][0]['values'][0][0]\n",
    "print(predict)\n",
    "print(\"Final prediction :\",predict)\n",
    "\n",
    "print(\"Final prediction :\",predict)\n",
    "if(predict == -1):\n",
    "    return render_template('sitepred.html', result=\"You are Safe :) Given URL is Not a Phishing Website\")\n",
    "else:\n",
    "    return render_template('sitepred.html', result=\"Be Safe ⚠ Given URL is a Phishing Website\")\n",
    "if __name__ == '__main__' :\n",
    "    app.run(debug= True)"
   ]
  },
  {
   "cell_type": "code",
   "execution_count": null,
   "id": "baf81314",
   "metadata": {},
   "outputs": [],
   "source": []
  }
 ],
 "metadata": {
  "kernelspec": {
   "display_name": "Python 3 (ipykernel)",
   "language": "python",
   "name": "python3"
  },
  "language_info": {
   "codemirror_mode": {
    "name": "ipython",
    "version": 3
   },
   "file_extension": ".py",
   "mimetype": "text/x-python",
   "name": "python",
   "nbconvert_exporter": "python",
   "pygments_lexer": "ipython3",
   "version": "3.9.12"
  }
 },
 "nbformat": 4,
 "nbformat_minor": 5
}
